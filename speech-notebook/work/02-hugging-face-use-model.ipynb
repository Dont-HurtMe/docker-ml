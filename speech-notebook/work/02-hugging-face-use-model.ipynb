{
 "cells": [
  {
   "cell_type": "markdown",
   "id": "38cf4710-a88d-4545-8ba8-c3a9bd4780bf",
   "metadata": {},
   "source": [
    "# **Pipeline usage**"
   ]
  },
  {
   "cell_type": "code",
   "execution_count": 23,
   "id": "cb529878-f040-4a6d-bbf4-c4b6b618d9f1",
   "metadata": {},
   "outputs": [],
   "source": [
    "from transformers import AutoProcessor, Wav2Vec2ForCTC\n",
    "from transformers import pipeline\n",
    "import torch\n",
    "import librosa"
   ]
  },
  {
   "cell_type": "code",
   "execution_count": 2,
   "id": "f59a6085-b39b-489e-b6bf-483d84f44a6e",
   "metadata": {
    "scrolled": true
   },
   "outputs": [
    {
     "data": {
      "application/vnd.jupyter.widget-view+json": {
       "model_id": "1faee10cd9e549d2a948de6170d4a6ee",
       "version_major": 2,
       "version_minor": 0
      },
      "text/plain": [
       "config.json:   0%|          | 0.00/1.98k [00:00<?, ?B/s]"
      ]
     },
     "metadata": {},
     "output_type": "display_data"
    },
    {
     "data": {
      "application/vnd.jupyter.widget-view+json": {
       "model_id": "c07c3c8b651a4c2baa11ee8b22458a2a",
       "version_major": 2,
       "version_minor": 0
      },
      "text/plain": [
       "model.safetensors:   0%|          | 0.00/290M [00:00<?, ?B/s]"
      ]
     },
     "metadata": {},
     "output_type": "display_data"
    },
    {
     "data": {
      "application/vnd.jupyter.widget-view+json": {
       "model_id": "3465a23db2344e5da3496181991ec391",
       "version_major": 2,
       "version_minor": 0
      },
      "text/plain": [
       "generation_config.json:   0%|          | 0.00/3.81k [00:00<?, ?B/s]"
      ]
     },
     "metadata": {},
     "output_type": "display_data"
    },
    {
     "data": {
      "application/vnd.jupyter.widget-view+json": {
       "model_id": "c9c9aac2a739463d82ed4cda0286f019",
       "version_major": 2,
       "version_minor": 0
      },
      "text/plain": [
       "tokenizer_config.json:   0%|          | 0.00/283k [00:00<?, ?B/s]"
      ]
     },
     "metadata": {},
     "output_type": "display_data"
    },
    {
     "data": {
      "application/vnd.jupyter.widget-view+json": {
       "model_id": "ce220d90e4454ac2bb51a0717768bc0c",
       "version_major": 2,
       "version_minor": 0
      },
      "text/plain": [
       "vocab.json:   0%|          | 0.00/836k [00:00<?, ?B/s]"
      ]
     },
     "metadata": {},
     "output_type": "display_data"
    },
    {
     "data": {
      "application/vnd.jupyter.widget-view+json": {
       "model_id": "60e9f8ac18cd448c82c80ae2e7129869",
       "version_major": 2,
       "version_minor": 0
      },
      "text/plain": [
       "tokenizer.json:   0%|          | 0.00/2.48M [00:00<?, ?B/s]"
      ]
     },
     "metadata": {},
     "output_type": "display_data"
    },
    {
     "data": {
      "application/vnd.jupyter.widget-view+json": {
       "model_id": "4eedbe8975564724b026e4c3760ec383",
       "version_major": 2,
       "version_minor": 0
      },
      "text/plain": [
       "merges.txt:   0%|          | 0.00/494k [00:00<?, ?B/s]"
      ]
     },
     "metadata": {},
     "output_type": "display_data"
    },
    {
     "data": {
      "application/vnd.jupyter.widget-view+json": {
       "model_id": "6eabb566606f416c91c83290b0100b71",
       "version_major": 2,
       "version_minor": 0
      },
      "text/plain": [
       "normalizer.json:   0%|          | 0.00/52.7k [00:00<?, ?B/s]"
      ]
     },
     "metadata": {},
     "output_type": "display_data"
    },
    {
     "data": {
      "application/vnd.jupyter.widget-view+json": {
       "model_id": "10ad6cce0a7c4c659ecf15a87d294232",
       "version_major": 2,
       "version_minor": 0
      },
      "text/plain": [
       "added_tokens.json:   0%|          | 0.00/34.6k [00:00<?, ?B/s]"
      ]
     },
     "metadata": {},
     "output_type": "display_data"
    },
    {
     "data": {
      "application/vnd.jupyter.widget-view+json": {
       "model_id": "130240a9c2934e29bfaa1b707dbf3e3c",
       "version_major": 2,
       "version_minor": 0
      },
      "text/plain": [
       "special_tokens_map.json:   0%|          | 0.00/2.19k [00:00<?, ?B/s]"
      ]
     },
     "metadata": {},
     "output_type": "display_data"
    },
    {
     "name": "stderr",
     "output_type": "stream",
     "text": [
      "Special tokens have been added in the vocabulary, make sure the associated word embeddings are fine-tuned or trained.\n"
     ]
    },
    {
     "data": {
      "application/vnd.jupyter.widget-view+json": {
       "model_id": "8d3b07be2e034a8a993e0ba5a8106d17",
       "version_major": 2,
       "version_minor": 0
      },
      "text/plain": [
       "preprocessor_config.json:   0%|          | 0.00/185k [00:00<?, ?B/s]"
      ]
     },
     "metadata": {},
     "output_type": "display_data"
    }
   ],
   "source": [
    "# pipe = pipeline(\"automatic-speech-recognition\", model=\"openai/whisper-small\") \n",
    "pipe = pipeline(\"automatic-speech-recognition\", model=\"openai/whisper-base\") "
   ]
  },
  {
   "cell_type": "code",
   "execution_count": 5,
   "id": "8923d9c1-58ea-4564-a494-0ba968c9909f",
   "metadata": {},
   "outputs": [],
   "source": [
    "# load data \n",
    "y, sr = librosa.load('./output/MR.wav')"
   ]
  },
  {
   "cell_type": "code",
   "execution_count": 7,
   "id": "6fc13b32-5d9a-4df4-a39d-24e697dfa245",
   "metadata": {},
   "outputs": [
    {
     "name": "stderr",
     "output_type": "stream",
     "text": [
      "/usr/local/lib/python3.12/site-packages/transformers/models/whisper/generation_whisper.py:480: FutureWarning: The input name `inputs` is deprecated. Please make sure to use `input_features` instead.\n",
      "  warnings.warn(\n",
      "Due to a bug fix in https://github.com/huggingface/transformers/pull/28687 transcription using a multilingual Whisper will default to language detection followed by transcription instead of translation to English.This might be a breaking change for your use case. If you want to instead always translate your audio to English, make sure to pass `language='en'`.\n",
      "The attention mask is not set and cannot be inferred from input because pad token is same as eos token.As a consequence, you may observe unexpected behavior. Please pass your input's `attention_mask` to obtain reliable results.\n"
     ]
    }
   ],
   "source": [
    "result = pipe(y)"
   ]
  },
  {
   "cell_type": "code",
   "execution_count": 11,
   "id": "42aaf84b-12ad-4d88-98e4-0250a561fb62",
   "metadata": {},
   "outputs": [
    {
     "data": {
      "text/plain": [
       "\" Till it's cool, just cool, into the mouth. Nice.\""
      ]
     },
     "execution_count": 11,
     "metadata": {},
     "output_type": "execute_result"
    }
   ],
   "source": [
    "y_pred = result.get('text')\n",
    "y_pred"
   ]
  },
  {
   "cell_type": "markdown",
   "id": "4cccaf14-298d-461e-aaaa-908172f4ee85",
   "metadata": {},
   "source": [
    "# **Manual**"
   ]
  },
  {
   "cell_type": "code",
   "execution_count": 10,
   "id": "bc4ce6f3-3391-4d0e-ad58-92cc7bb14c2d",
   "metadata": {},
   "outputs": [],
   "source": [
    "import torch\n",
    "import librosa\n",
    "from transformers import AutoProcessor, AutoModelForSpeechSeq2Seq"
   ]
  },
  {
   "cell_type": "code",
   "execution_count": 12,
   "id": "1cb247e1-ba4a-4463-883d-aa1ae87b1cb9",
   "metadata": {
    "scrolled": true
   },
   "outputs": [
    {
     "data": {
      "application/vnd.jupyter.widget-view+json": {
       "model_id": "9324d8cfb4864553a69724feb6c19f3c",
       "version_major": 2,
       "version_minor": 0
      },
      "text/plain": [
       "preprocessor_config.json:   0%|          | 0.00/185k [00:00<?, ?B/s]"
      ]
     },
     "metadata": {},
     "output_type": "display_data"
    },
    {
     "data": {
      "application/vnd.jupyter.widget-view+json": {
       "model_id": "690de3433e0446b7adcb793ac800b2a9",
       "version_major": 2,
       "version_minor": 0
      },
      "text/plain": [
       "tokenizer_config.json:   0%|          | 0.00/283k [00:00<?, ?B/s]"
      ]
     },
     "metadata": {},
     "output_type": "display_data"
    },
    {
     "data": {
      "application/vnd.jupyter.widget-view+json": {
       "model_id": "de6942b91aa8462a8b51f7ce0e9a6b9e",
       "version_major": 2,
       "version_minor": 0
      },
      "text/plain": [
       "vocab.json:   0%|          | 0.00/836k [00:00<?, ?B/s]"
      ]
     },
     "metadata": {},
     "output_type": "display_data"
    },
    {
     "data": {
      "application/vnd.jupyter.widget-view+json": {
       "model_id": "3e9dd73a11214860a3519160e0c00886",
       "version_major": 2,
       "version_minor": 0
      },
      "text/plain": [
       "tokenizer.json:   0%|          | 0.00/2.48M [00:00<?, ?B/s]"
      ]
     },
     "metadata": {},
     "output_type": "display_data"
    },
    {
     "data": {
      "application/vnd.jupyter.widget-view+json": {
       "model_id": "0c82ff40f37d435c8f154519bc1090d7",
       "version_major": 2,
       "version_minor": 0
      },
      "text/plain": [
       "merges.txt:   0%|          | 0.00/494k [00:00<?, ?B/s]"
      ]
     },
     "metadata": {},
     "output_type": "display_data"
    },
    {
     "data": {
      "application/vnd.jupyter.widget-view+json": {
       "model_id": "54a1e828687348b2aa9c9c6128ef0005",
       "version_major": 2,
       "version_minor": 0
      },
      "text/plain": [
       "normalizer.json:   0%|          | 0.00/52.7k [00:00<?, ?B/s]"
      ]
     },
     "metadata": {},
     "output_type": "display_data"
    },
    {
     "data": {
      "application/vnd.jupyter.widget-view+json": {
       "model_id": "4dbb8d8ef2504f5fb52db7abb3b652cb",
       "version_major": 2,
       "version_minor": 0
      },
      "text/plain": [
       "added_tokens.json:   0%|          | 0.00/34.6k [00:00<?, ?B/s]"
      ]
     },
     "metadata": {},
     "output_type": "display_data"
    },
    {
     "data": {
      "application/vnd.jupyter.widget-view+json": {
       "model_id": "51e491b9f45d497a972332908b73fd40",
       "version_major": 2,
       "version_minor": 0
      },
      "text/plain": [
       "special_tokens_map.json:   0%|          | 0.00/2.19k [00:00<?, ?B/s]"
      ]
     },
     "metadata": {},
     "output_type": "display_data"
    },
    {
     "name": "stderr",
     "output_type": "stream",
     "text": [
      "Special tokens have been added in the vocabulary, make sure the associated word embeddings are fine-tuned or trained.\n"
     ]
    },
    {
     "data": {
      "application/vnd.jupyter.widget-view+json": {
       "model_id": "13924a9d67594514bc4761a5d4380c9b",
       "version_major": 2,
       "version_minor": 0
      },
      "text/plain": [
       "config.json:   0%|          | 0.00/1.97k [00:00<?, ?B/s]"
      ]
     },
     "metadata": {},
     "output_type": "display_data"
    },
    {
     "data": {
      "application/vnd.jupyter.widget-view+json": {
       "model_id": "dc67cb02eb4b4f1183fd67c500775f6b",
       "version_major": 2,
       "version_minor": 0
      },
      "text/plain": [
       "model.safetensors:   0%|          | 0.00/967M [00:00<?, ?B/s]"
      ]
     },
     "metadata": {},
     "output_type": "display_data"
    },
    {
     "data": {
      "application/vnd.jupyter.widget-view+json": {
       "model_id": "059c30aeb3ec4646829e20afb7ec7a90",
       "version_major": 2,
       "version_minor": 0
      },
      "text/plain": [
       "generation_config.json:   0%|          | 0.00/3.87k [00:00<?, ?B/s]"
      ]
     },
     "metadata": {},
     "output_type": "display_data"
    }
   ],
   "source": [
    "processor = AutoProcessor.from_pretrained(\"openai/whisper-small\")\n",
    "model = AutoModelForSpeechSeq2Seq.from_pretrained(\"openai/whisper-small\")"
   ]
  },
  {
   "cell_type": "code",
   "execution_count": 13,
   "id": "522b1bc1-fcb5-4171-8e90-3b127c8695d9",
   "metadata": {},
   "outputs": [],
   "source": [
    "y, sr = librosa.load('./output/SunsetJesus.wav')"
   ]
  },
  {
   "cell_type": "code",
   "execution_count": 16,
   "id": "db6d2acd-c6a9-4ed6-9632-a3d43bcc8770",
   "metadata": {},
   "outputs": [],
   "source": [
    "inputs = processor(y, sampling_rate=16000, return_tensors=\"pt\").input_features"
   ]
  },
  {
   "cell_type": "code",
   "execution_count": 17,
   "id": "b87b2481-9971-406a-ad50-e5cf0db7468f",
   "metadata": {},
   "outputs": [
    {
     "data": {
      "text/plain": [
       "tensor([[[-0.7454, -0.7454, -0.7454,  ..., -0.7454, -0.7454, -0.7454],\n",
       "         [-0.7454, -0.7454, -0.7454,  ..., -0.7454, -0.7454, -0.7454],\n",
       "         [-0.7454, -0.7454, -0.7454,  ..., -0.7454, -0.7454, -0.7454],\n",
       "         ...,\n",
       "         [-0.7454, -0.7454, -0.7454,  ..., -0.7454, -0.7454, -0.7454],\n",
       "         [-0.7454, -0.7454, -0.7454,  ..., -0.7454, -0.7454, -0.7454],\n",
       "         [-0.7454, -0.7454, -0.7454,  ..., -0.7454, -0.7454, -0.7454]]])"
      ]
     },
     "execution_count": 17,
     "metadata": {},
     "output_type": "execute_result"
    }
   ],
   "source": [
    "inputs"
   ]
  },
  {
   "cell_type": "code",
   "execution_count": 21,
   "id": "8a4fc3cd-f013-487d-9122-f77614e60adb",
   "metadata": {},
   "outputs": [],
   "source": [
    "generated_ids = model.generate(input_features=inputs)"
   ]
  },
  {
   "cell_type": "code",
   "execution_count": 22,
   "id": "2546df7c-da33-49bd-b44b-edfda5625be3",
   "metadata": {},
   "outputs": [
    {
     "data": {
      "text/plain": [
       "[\" until it's cool, just cool into the mouth. Nice.\"]"
      ]
     },
     "execution_count": 22,
     "metadata": {},
     "output_type": "execute_result"
    }
   ],
   "source": [
    "transcription = processor.batch_decode(generated_ids, skip_special_tokens=True)\n",
    "transcription"
   ]
  },
  {
   "cell_type": "code",
   "execution_count": null,
   "id": "f2aff84e-d1ba-4753-aefe-be1adb04542c",
   "metadata": {},
   "outputs": [],
   "source": [
    "s"
   ]
  }
 ],
 "metadata": {
  "kernelspec": {
   "display_name": "Python 3 (ipykernel)",
   "language": "python",
   "name": "python3"
  },
  "language_info": {
   "codemirror_mode": {
    "name": "ipython",
    "version": 3
   },
   "file_extension": ".py",
   "mimetype": "text/x-python",
   "name": "python",
   "nbconvert_exporter": "python",
   "pygments_lexer": "ipython3",
   "version": "3.12.4"
  }
 },
 "nbformat": 4,
 "nbformat_minor": 5
}
