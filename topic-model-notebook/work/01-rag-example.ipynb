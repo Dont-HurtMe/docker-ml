{
 "cells": [
  {
   "cell_type": "code",
   "execution_count": 2,
   "id": "f10f5e24-9623-4114-b506-9ffc2fef60d5",
   "metadata": {},
   "outputs": [
    {
     "name": "stderr",
     "output_type": "stream",
     "text": [
      "/usr/local/lib/python3.12/site-packages/sentence_transformers/cross_encoder/CrossEncoder.py:11: TqdmExperimentalWarning: Using `tqdm.autonotebook.tqdm` in notebook mode. Use `tqdm.tqdm` instead to force console mode (e.g. in jupyter console)\n",
      "  from tqdm.autonotebook import tqdm, trange\n"
     ]
    }
   ],
   "source": [
    "from langchain.vectorstores import FAISS\n",
    "from langchain.document_loaders import DataFrameLoader\n",
    "from langchain.embeddings import SentenceTransformerEmbeddings\n",
    "from langchain.text_splitter import CharacterTextSplitter\n",
    "# import dask.dataframe as dd\n",
    "# from dask.diagnostics import ProgressBar\n",
    "# ProgressBar().register()\n",
    "import pandas as pd\n",
    "# import torch \n",
    "from sentence_transformers import SentenceTransformer \n",
    "from datasets import load_dataset"
   ]
  },
  {
   "cell_type": "code",
   "execution_count": 3,
   "id": "40cfe857-3e9f-4457-a2ec-c1824f0c4202",
   "metadata": {
    "scrolled": true
   },
   "outputs": [],
   "source": [
    "df = pd.DataFrame(load_dataset('imdb')['train'])"
   ]
  },
  {
   "cell_type": "code",
   "execution_count": 9,
   "id": "d8bca200-ecfd-4988-bfe4-a8c7ef72138c",
   "metadata": {},
   "outputs": [
    {
     "data": {
      "text/html": [
       "<div>\n",
       "<style scoped>\n",
       "    .dataframe tbody tr th:only-of-type {\n",
       "        vertical-align: middle;\n",
       "    }\n",
       "\n",
       "    .dataframe tbody tr th {\n",
       "        vertical-align: top;\n",
       "    }\n",
       "\n",
       "    .dataframe thead th {\n",
       "        text-align: right;\n",
       "    }\n",
       "</style>\n",
       "<table border=\"1\" class=\"dataframe\">\n",
       "  <thead>\n",
       "    <tr style=\"text-align: right;\">\n",
       "      <th></th>\n",
       "      <th>text</th>\n",
       "      <th>label</th>\n",
       "    </tr>\n",
       "  </thead>\n",
       "  <tbody>\n",
       "    <tr>\n",
       "      <th>24992</th>\n",
       "      <td>This movie really kicked some ass. I watched i...</td>\n",
       "      <td>1</td>\n",
       "    </tr>\n",
       "    <tr>\n",
       "      <th>21790</th>\n",
       "      <td>I probably doubled my knowledge of Iran when I...</td>\n",
       "      <td>1</td>\n",
       "    </tr>\n",
       "    <tr>\n",
       "      <th>24665</th>\n",
       "      <td>At first I didn't didn't like it that much, al...</td>\n",
       "      <td>1</td>\n",
       "    </tr>\n",
       "    <tr>\n",
       "      <th>5244</th>\n",
       "      <td>It's interesting how 90% of the high-vote revi...</td>\n",
       "      <td>0</td>\n",
       "    </tr>\n",
       "    <tr>\n",
       "      <th>10979</th>\n",
       "      <td>NOTHING in this movie is funny. I thought the ...</td>\n",
       "      <td>0</td>\n",
       "    </tr>\n",
       "    <tr>\n",
       "      <th>...</th>\n",
       "      <td>...</td>\n",
       "      <td>...</td>\n",
       "    </tr>\n",
       "    <tr>\n",
       "      <th>19556</th>\n",
       "      <td>I read Holes in 5th grade so when I heard they...</td>\n",
       "      <td>1</td>\n",
       "    </tr>\n",
       "    <tr>\n",
       "      <th>15672</th>\n",
       "      <td>Along with \"Brothers &amp; Sisters\", \"Six Degrees\"...</td>\n",
       "      <td>1</td>\n",
       "    </tr>\n",
       "    <tr>\n",
       "      <th>10742</th>\n",
       "      <td>I watched this video at a friend's house. I'm ...</td>\n",
       "      <td>0</td>\n",
       "    </tr>\n",
       "    <tr>\n",
       "      <th>23232</th>\n",
       "      <td>There has been a political documentary, of rec...</td>\n",
       "      <td>1</td>\n",
       "    </tr>\n",
       "    <tr>\n",
       "      <th>2546</th>\n",
       "      <td>Hello, can anybody hear me? I don't know why y...</td>\n",
       "      <td>0</td>\n",
       "    </tr>\n",
       "  </tbody>\n",
       "</table>\n",
       "<p>12000 rows × 2 columns</p>\n",
       "</div>"
      ],
      "text/plain": [
       "                                                    text  label\n",
       "24992  This movie really kicked some ass. I watched i...      1\n",
       "21790  I probably doubled my knowledge of Iran when I...      1\n",
       "24665  At first I didn't didn't like it that much, al...      1\n",
       "5244   It's interesting how 90% of the high-vote revi...      0\n",
       "10979  NOTHING in this movie is funny. I thought the ...      0\n",
       "...                                                  ...    ...\n",
       "19556  I read Holes in 5th grade so when I heard they...      1\n",
       "15672  Along with \"Brothers & Sisters\", \"Six Degrees\"...      1\n",
       "10742  I watched this video at a friend's house. I'm ...      0\n",
       "23232  There has been a political documentary, of rec...      1\n",
       "2546   Hello, can anybody hear me? I don't know why y...      0\n",
       "\n",
       "[12000 rows x 2 columns]"
      ]
     },
     "execution_count": 9,
     "metadata": {},
     "output_type": "execute_result"
    }
   ],
   "source": [
    "df = df.sample(12000)\n",
    "df"
   ]
  },
  {
   "cell_type": "code",
   "execution_count": 10,
   "id": "7d313afa-5520-44b4-aa28-76519c00f2fe",
   "metadata": {
    "scrolled": true
   },
   "outputs": [
    {
     "data": {
      "text/plain": [
       "[\"This movie really kicked some ass. I watched it over and over and it never got boring. Angelina Jolie really kicked some ass in the movie, you should see the movie, you won't be disappointed. And another reason you should see the movie is because the guy from The X-Files is in it, David Duchovny.\",\n",
       " \"I probably doubled my knowledge of Iran when I saw Secret Ballot (2001). Now I know about four times as much (I doubt I learned a whole heck of a lot from Not Without My Daughter (1991)).<br /><br />Offside is a splendid budget Iranian comedy about a group a girls (working individually) to attend a decisive soccer match for their country's place in the World Cup. Women are not allowed to attend soccer matches, so the nation's armed forces have been mobilized to save any women who try to enter from themselves. Some (teen?) girls try to crash the party by dressing as boys, but are caught. The movie is mostly set at this holding pen where the girls are detained by soldiers, awaiting some unspecified punishment (although, the girl who dressed as a soldier claims that she was one insignia away from being executed!)<br /><br />The movie explores the absurdity of the situation. The thinking that bars women from football matches comes down to it being too raunchy an experience for the fairer sex\\x96a philosophy not unknown in the west less than 100 years ago. This farce comes to a head when a girl needs to go to the bathroom, so a soldier escorting her demands that she cover her eyes so she can't see the graffiti. The conflict is not entirely about the battle of the sexes: at one point some friction arises between a solider who is rural and the girls who are urban.<br /><br />Fortunately, this movie was not too culturally esoteric that the comedy was lost on this neighbour and cultural cousin of the Great Satan. You have to be in the mood for it, but no one should avoid this movie because they think that they won't get it.\"]"
      ]
     },
     "execution_count": 10,
     "metadata": {},
     "output_type": "execute_result"
    }
   ],
   "source": [
    "data = df['text'].tolist()\n",
    "data[:2]"
   ]
  },
  {
   "cell_type": "code",
   "execution_count": 11,
   "id": "48a23615-c82d-42c7-bc55-14830a6f2f86",
   "metadata": {},
   "outputs": [],
   "source": [
    "embedder = SentenceTransformerEmbeddings(\n",
    "    model_name='all-MiniLM-L6-v2',\n",
    "    multi_process=False,\n",
    "    show_progress=True\n",
    ")"
   ]
  },
  {
   "cell_type": "code",
   "execution_count": 12,
   "id": "cc464485-4dea-4bcd-8acf-97b6c25b944f",
   "metadata": {},
   "outputs": [
    {
     "data": {
      "application/vnd.jupyter.widget-view+json": {
       "model_id": "a4c09eb1ab564f42902bfe29bc287b70",
       "version_major": 2,
       "version_minor": 0
      },
      "text/plain": [
       "Batches:   0%|          | 0/375 [00:00<?, ?it/s]"
      ]
     },
     "metadata": {},
     "output_type": "display_data"
    }
   ],
   "source": [
    "vector = embedder.embed_documents(data)\n",
    "df['vector'] = [i for i in vector]"
   ]
  },
  {
   "cell_type": "code",
   "execution_count": 16,
   "id": "b2bac117-6bbc-4cda-aed4-261848dc8aa0",
   "metadata": {
    "scrolled": true
   },
   "outputs": [],
   "source": [
    "vectorstore = FAISS.from_embeddings(\n",
    "    text_embeddings=df[['text', 'vector']].to_numpy(),\n",
    "    embedding=embedder, \n",
    "    metadatas=df[['text']].to_dict('records')\n",
    ") "
   ]
  },
  {
   "cell_type": "code",
   "execution_count": 17,
   "id": "3bde81eb-7e93-4907-8a1f-3d79493a667e",
   "metadata": {},
   "outputs": [],
   "source": [
    "import os \n",
    "os.makedirs('./output/', exist_ok=True)\n",
    "vectorstore.save_local('./output/all-MiniLM-L6-v2-vectorstore.db') "
   ]
  },
  {
   "cell_type": "code",
   "execution_count": null,
   "id": "4bbb3b66-d7cb-4e89-a048-5527ee38e99c",
   "metadata": {},
   "outputs": [],
   "source": []
  },
  {
   "cell_type": "code",
   "execution_count": 40,
   "id": "baa6e24c-b095-4528-ba6a-03e24f188a6f",
   "metadata": {},
   "outputs": [
    {
     "name": "stderr",
     "output_type": "stream",
     "text": [
      "WARNING: All log messages before absl::InitializeLog() is called are written to STDERR\n",
      "I0000 00:00:1721808669.435863     521 config.cc:230] gRPC experiments enabled: call_status_override_on_cancellation, event_engine_dns, event_engine_listener, http2_stats_fix, monitoring_experiment, pick_first_new, trace_record_callops, work_serializer_clears_time_cache\n",
      "I0000 00:00:1721808669.455477     521 check_gcp_environment.cc:61] BIOS data file does not exist or cannot be opened.\n"
     ]
    }
   ],
   "source": [
    "from langchain.schema.runnable import RunnablePassthrough\n",
    "from langchain_google_genai import ChatGoogleGenerativeAI\n",
    "\n",
    "llm = ChatGoogleGenerativeAI(\n",
    "    model=\"gemini-1.5-pro\",\n",
    "    temperature=0,\n",
    "    max_tokens=None,\n",
    "    timeout=None,\n",
    "    max_retries=2,\n",
    "    google_api_key=<API_KEYS>\n",
    ")\n",
    "\n",
    "retriever = vectorstore.as_retriever(k=10, lambda_mult=0.2)"
   ]
  },
  {
   "cell_type": "code",
   "execution_count": 44,
   "id": "fe30600f-02f4-45c9-a776-5ef35a0892d2",
   "metadata": {},
   "outputs": [],
   "source": [
    "template = \"\"\"Use the following pieces of context to answer the question at the end. \n",
    "If you don't know the answer, just say that you don't know, don't try to make up an answer. \n",
    "Use five sentences maximum and keep the answer as concise as possible.\n",
    "{context}\n",
    "Question: {question}\n",
    "Helpful Answer:\"\"\"\n",
    "rag_prompt_custom = PromptTemplate.from_template(template)\n",
    "\n",
    "rag_chain = (\n",
    "    {\"context\": retriever, \"question\": RunnablePassthrough()} | rag_prompt_custom | llm\n",
    ")"
   ]
  },
  {
   "cell_type": "code",
   "execution_count": 55,
   "id": "b8071138-738d-4a7a-b89e-b380952176a3",
   "metadata": {},
   "outputs": [
    {
     "data": {
      "application/vnd.jupyter.widget-view+json": {
       "model_id": "ada70dc8634e49f3b8d66521c3030ead",
       "version_major": 2,
       "version_minor": 0
      },
      "text/plain": [
       "Batches:   0%|          | 0/1 [00:00<?, ?it/s]"
      ]
     },
     "metadata": {},
     "output_type": "display_data"
    },
    {
     "name": "stdout",
     "output_type": "stream",
     "text": [
      "The movie *Titanic* is a romance film about a young couple, Jack and Rose, who fall in love aboard the ill-fated RMS Titanic. The film portrays their forbidden love amidst the backdrop of the ship's tragic sinking. While some criticize the film's romantic plot and acting, others praise its visual effects, emotional impact, and historical accuracy. *Titanic* was a huge commercial success and won numerous awards, including eleven Academy Awards. \n",
      "\n"
     ]
    }
   ],
   "source": [
    "print(rag_chain.invoke('titanic').content)"
   ]
  }
 ],
 "metadata": {
  "kernelspec": {
   "display_name": "Python 3 (ipykernel)",
   "language": "python",
   "name": "python3"
  },
  "language_info": {
   "codemirror_mode": {
    "name": "ipython",
    "version": 3
   },
   "file_extension": ".py",
   "mimetype": "text/x-python",
   "name": "python",
   "nbconvert_exporter": "python",
   "pygments_lexer": "ipython3",
   "version": "3.12.4"
  }
 },
 "nbformat": 4,
 "nbformat_minor": 5
}
